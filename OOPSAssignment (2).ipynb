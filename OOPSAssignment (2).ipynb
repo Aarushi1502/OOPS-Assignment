{
  "nbformat": 4,
  "nbformat_minor": 0,
  "metadata": {
    "colab": {
      "provenance": []
    },
    "kernelspec": {
      "name": "python3",
      "display_name": "Python 3"
    },
    "language_info": {
      "name": "python"
    }
  },
  "cells": [
    {
      "cell_type": "code",
      "execution_count": null,
      "metadata": {
        "id": "XJnvC_LXyyLY"
      },
      "outputs": [],
      "source": []
    },
    {
      "cell_type": "markdown",
      "source": [
        "# OOPS Assignment\n",
        "\n",
        "1. What is Object-Oriented Programming (OOP)?\n",
        "  - OOP is a programming paradigm based on the concept of objects that encapsulate data and methods. It emphasizes principles like inheritance, polymorphism, abstraction, and encapsulation.\n",
        "\n",
        "2. What is a class in OOP?\n",
        "  - A class is a blueprint for creating objects, defining their attributes and methods.\n",
        "\n",
        "3. What is an object in OOP?\n",
        "  - An object is an instance of a class containing data and behavior defined by the class.\n",
        "\n",
        "4. What is the difference between abstraction and encapsulation?\n",
        "\n",
        "  - Abstraction: Hides the complexity of a system.\n",
        "  - Encapsulation: Bundles data and methods together and restricts direct access.\n",
        "\n",
        "5. What are dunder methods in Python?\n",
        "  - Dunder methods are special methods with double underscores, like __init__, __str__, and __add__.\n",
        "\n",
        "  - Example:\n",
        "          class Person:\n",
        "              def __str__(self):\n",
        "        return \"This is a Person object.\"\n",
        "6. Explain the concept of inheritance in OOP.\n",
        "  - Inheritance allows a class to inherit methods and properties from another class.\n",
        "\n",
        "7. What is polymorphism in OOP?\n",
        "  - Polymorphism allows methods in different classes to have the same name but behave differently.\n",
        "\n",
        "8. How is encapsulation achieved in Python?\n",
        "  - Encapsulation is achieved by using private attributes (prefixing with __) and providing methods to access them.\n",
        "\n",
        "9. What is a constructor in Python?\n",
        "  - A constructor is a special method (__init__) called when an object is created to initialize attributes.\n",
        "\n",
        "10. What are class and static methods in Python?\n",
        "\n",
        "  - Class methods: Operate on the class rather than instance. Use @classmethod.\n",
        "  - Static methods: Do not operate on class or instance. Use @staticmethod.\n",
        "\n",
        "11. What is method overloading in Python?\n",
        "  - Python does not support traditional method overloading. Instead, default arguments or variable-length arguments are used.\n",
        "\n",
        "12. What is method overriding in OOP?\n",
        "  - When a child class provides its own implementation for a method in the parent class.\n",
        "\n",
        "13. What is a property decorator in Python?\n",
        "  - @property allows you to access a method like an attribute.\n",
        "\n",
        "14. Why is polymorphism important in OOP?\n",
        "  - It enables code reusability and flexibility.\n",
        "\n",
        "15. What is an abstract class in Python?\n",
        "  - An abstract class is a class with at least one abstract method (defined with @abstractmethod).\n",
        "\n",
        "16. What are the advantages of OOP?\n",
        "  - Code reusability\n",
        "  - Modularity\n",
        "  - Maintainability\n",
        "  - Abstraction and Encapsulation\n",
        "\n",
        "17. What is the difference between a class variable and an instance variable?\n",
        "  - Class variable: Shared by all instances.\n",
        "  - Instance variable: Unique to each instance.\n",
        "\n",
        "18. What is multiple inheritance in Python?\n",
        "  - A class can inherit from multiple parent classes.\n",
        "\n",
        "19. Explain the purpose of __str__ and __repr__ in Python.\n",
        "  - __str__: User-friendly string representation.\n",
        "  - __repr__: Unambiguous representation for developers.\n",
        "\n",
        "20. What is the significance of super() in Python?\n",
        "  - super() calls the parent class's methods.\n",
        "\n"
      ],
      "metadata": {
        "id": "FkRwTEc1y6hg"
      }
    },
    {
      "cell_type": "code",
      "source": [
        "# 1. Create a parent class Animal with a method speak() that prints a generic message. Create a child class Dog that overrides the speak() method to print \"Bark!\".\n",
        "\n",
        "class Animal:\n",
        "    def speak(self):\n",
        "        print(\"Generic animal sound\")\n",
        "\n",
        "class Dog(Animal):\n",
        "    def speak(self):\n",
        "        print(\"Bark!\")\n",
        "\n",
        "dog = Dog()\n",
        "dog.speak()  # Output: Bark!\n"
      ],
      "metadata": {
        "id": "aHI8UZskENdh"
      },
      "execution_count": null,
      "outputs": []
    },
    {
      "cell_type": "code",
      "source": [
        "# 2. Write a program to create an abstract class Shape with a method area(). Derive classes Circle and Rectangle from it and implement the area() method in both.\n",
        "\n",
        "from abc import ABC, abstractmethod\n",
        "\n",
        "class Shape(ABC):\n",
        "    @abstractmethod\n",
        "    def area(self):\n",
        "        pass\n",
        "\n",
        "class Circle(Shape):\n",
        "    def __init__(self, radius):\n",
        "        self.radius = radius\n",
        "\n",
        "    def area(self):\n",
        "        return 3.14 * self.radius * self.radius\n",
        "\n",
        "class Rectangle(Shape):\n",
        "    def __init__(self, length, width):\n",
        "        self.length = length\n",
        "        self.width = width\n",
        "\n",
        "    def area(self):\n",
        "        return self.length * self.width\n",
        "\n",
        "circle = Circle(5)\n",
        "rectangle = Rectangle(4, 6)\n",
        "\n",
        "print(circle.area())  # Output: 78.5\n",
        "print(rectangle.area())  # Output: 24\n"
      ],
      "metadata": {
        "id": "GN4zmhjBFtdn"
      },
      "execution_count": null,
      "outputs": []
    },
    {
      "cell_type": "code",
      "source": [
        "# 3. Implement a multi-level inheritance scenario where a class Vehicle has an attribute type. Derive a class Car and further derive a class ElectricCar that adds a battery attribute.\n",
        "\n",
        "class Vehicle:\n",
        "    def __init__(self, vehicle_type):\n",
        "        self.vehicle_type = vehicle_type\n",
        "\n",
        "class Car(Vehicle):\n",
        "    def __init__(self, vehicle_type, brand):\n",
        "        super().__init__(vehicle_type)\n",
        "        self.brand = brand\n",
        "\n",
        "class ElectricCar(Car):\n",
        "    def __init__(self, vehicle_type, brand, battery_capacity):\n",
        "        super().__init__(vehicle_type, brand)\n",
        "        self.battery_capacity = battery_capacity\n",
        "\n",
        "electric_car = ElectricCar(\"Car\", \"Tesla\", \"100 kWh\")\n",
        "print(electric_car.battery_capacity)  # Output: 100 kWh"
      ],
      "metadata": {
        "id": "lYX6hGHDGhCQ"
      },
      "execution_count": null,
      "outputs": []
    },
    {
      "cell_type": "code",
      "source": [
        "# 4. Write a program to demonstrate encapsulation by creating a class BankAccount with private attributes balance and methods to deposit, withdraw, and check balance.\n",
        "\n",
        "class BankAccount:\n",
        "    def __init__(self, balance=0):\n",
        "        self.__balance = balance\n",
        "\n",
        "    def deposit(self, amount):\n",
        "        self.__balance += amount\n",
        "\n",
        "    def withdraw(self, amount):\n",
        "        if amount > self.__balance:\n",
        "            print(\"Insufficient funds\")\n",
        "        else:\n",
        "            self.__balance -= amount\n",
        "\n",
        "    def get_balance(self):\n",
        "        return self.__balance\n",
        "\n",
        "account = BankAccount(1000)\n",
        "account.deposit(500)\n",
        "account.withdraw(300)\n",
        "print(account.get_balance())  # Output: 1200"
      ],
      "metadata": {
        "id": "OUIVmQ9LGx7P"
      },
      "execution_count": null,
      "outputs": []
    },
    {
      "cell_type": "code",
      "source": [
        "# 5. Demonstrate runtime polymorphism using a method play() in a base class Instrument. Derive classes Guitar and Piano that implement their own version of play().\n",
        "\n",
        "class Instrument:\n",
        "    def play(self):\n",
        "        print(\"Playing an instrument\")\n",
        "\n",
        "class Guitar(Instrument):\n",
        "    def play(self):\n",
        "        print(\"Playing the guitar\")\n",
        "\n",
        "class Piano(Instrument):\n",
        "    def play(self):\n",
        "        print(\"Playing the piano\")\n",
        "\n",
        "guitar = Guitar()\n",
        "piano = Piano()\n",
        "\n",
        "guitar.play()  # Output: Playing the guitar\n",
        "piano.play()   # Output: Playing the piano"
      ],
      "metadata": {
        "id": "s7Ld_IxcG_6s"
      },
      "execution_count": null,
      "outputs": []
    },
    {
      "cell_type": "code",
      "source": [
        "# 6. Create a class MathOperations with a class method add_numbers() to add two numbers and a static method subtract_numbers() to subtract two numbers.\n",
        "\n",
        "class MathOperations:\n",
        "    @classmethod\n",
        "    def add_numbers(cls, a, b):\n",
        "        return a + b\n",
        "\n",
        "    @staticmethod\n",
        "    def subtract_numbers(a, b):\n",
        "        return a - b\n",
        "\n",
        "print(MathOperations.add_numbers(10, 20))  # Output: 30\n",
        "print(MathOperations.subtract_numbers(20, 10))  # Output: 10"
      ],
      "metadata": {
        "id": "9a_8_WthHG4_"
      },
      "execution_count": null,
      "outputs": []
    },
    {
      "cell_type": "code",
      "source": [
        "# 7. Implement a class Person with a class method to count the total number of persons created.\n",
        "\n",
        "class Person:\n",
        "    count = 0\n",
        "\n",
        "    def __init__(self, name):\n",
        "        self.name = name\n",
        "        Person.count += 1\n",
        "\n",
        "    @classmethod\n",
        "    def total_persons(cls):\n",
        "        return cls.count\n",
        "\n",
        "p1 = Person(\"Eleena\")\n",
        "p2 = Person(\"Bobby\")\n",
        "print(Person.total_persons())  # Output: 2"
      ],
      "metadata": {
        "id": "lrR2GDVRHR31"
      },
      "execution_count": null,
      "outputs": []
    },
    {
      "cell_type": "code",
      "source": [
        "# 8. Write a class Fraction with attributes numerator and denominator. Override the __str__ method to display the fraction as \"numerator/denominator\".\n",
        "\n",
        "class Fraction:\n",
        "    def __init__(self, numerator, denominator):\n",
        "        self.numerator = numerator\n",
        "        self.denominator = denominator\n",
        "\n",
        "    def __str__(self):\n",
        "        return f\"{self.numerator}/{self.denominator}\"\n",
        "\n",
        "fraction = Fraction(3, 4)\n",
        "print(fraction)  # Output: 3/4"
      ],
      "metadata": {
        "id": "50cKaceQHXg-"
      },
      "execution_count": null,
      "outputs": []
    },
    {
      "cell_type": "code",
      "source": [
        "# 9. Demonstrate operator overloading by creating a class Vector and overriding the __add__ method to add two vectors.\n",
        "\n",
        "class Vector:\n",
        "    def __init__(self, x, y):\n",
        "        self.x = x\n",
        "        self.y = y\n",
        "\n",
        "    def __add__(self, other):\n",
        "        return Vector(self.x + other.x, self.y + other.y)\n",
        "\n",
        "    def __str__(self):\n",
        "        return f\"({self.x}, {self.y})\"\n",
        "\n",
        "v1 = Vector(1, 2)\n",
        "v2 = Vector(3, 4)\n",
        "print(v1 + v2)  # Output: (4, 6)"
      ],
      "metadata": {
        "id": "FS0CoEadHgOz"
      },
      "execution_count": null,
      "outputs": []
    },
    {
      "cell_type": "code",
      "source": [
        "# 10. Create a class Person with attributes name and age. Add a method greet() that prints \"Hello, my name is {name} and I am {age} years old.\"\n",
        "\n",
        "class Person:\n",
        "    def __init__(self, name, age):\n",
        "        self.name = name\n",
        "        self.age = age\n",
        "\n",
        "    def greet(self):\n",
        "        print(f\"Hello, my name is {self.name} and I am {self.age} years old.\")\n",
        "\n",
        "person = Person(\"Aarushi\", 26)\n",
        "person.greet()  # Output: Hello, my name is Aarushi and I am 26 years old."
      ],
      "metadata": {
        "id": "pJXBL1-qHp41"
      },
      "execution_count": null,
      "outputs": []
    },
    {
      "cell_type": "code",
      "source": [
        "# 11. Implement a class Student with attributes name and grades. Create a method average_grade() to compute the average of the grades.\n",
        "\n",
        "class Student:\n",
        "    def __init__(self, name, grades):\n",
        "        self.name = name\n",
        "        self.grades = grades\n",
        "\n",
        "    def average_grade(self):\n",
        "        return sum(self.grades) / len(self.grades)\n",
        "\n",
        "student = Student(\"Aarushi\", [85, 90, 78])\n",
        "print(student.average_grade())"
      ],
      "metadata": {
        "id": "yOSmg_78H65R"
      },
      "execution_count": null,
      "outputs": []
    },
    {
      "cell_type": "code",
      "source": [
        "# 12. Create a class Rectangle with methods set_dimensions() to set the dimensions and area() to calculate the area.\n",
        "\n",
        "class Rectangle:\n",
        "    def set_dimensions(self, length, width):\n",
        "        self.length = length\n",
        "        self.width = width\n",
        "\n",
        "    def area(self):\n",
        "        return self.length * self.width\n",
        "\n",
        "rect = Rectangle()\n",
        "rect.set_dimensions(4, 6)\n",
        "print(rect.area())  # Output: 24"
      ],
      "metadata": {
        "id": "bLv5VWKFIzZw"
      },
      "execution_count": null,
      "outputs": []
    },
    {
      "cell_type": "code",
      "source": [
        "# 13. Create a class Employee with a method calculate_salary() that computes the salary based on hours worked and hourly rate. Create a derived class Manager that adds a bonus to the salary.\n",
        "\n",
        "class Employee:\n",
        "    def calculate_salary(self, hours, rate):\n",
        "        return hours * rate\n",
        "\n",
        "class Manager(Employee):\n",
        "    def calculate_salary(self, hours, rate, bonus):\n",
        "        return super().calculate_salary(hours, rate) + bonus\n",
        "\n",
        "manager = Manager()\n",
        "print(manager.calculate_salary(40, 50, 500))  # Output: 2500"
      ],
      "metadata": {
        "id": "rvgN0B57JlHW"
      },
      "execution_count": null,
      "outputs": []
    },
    {
      "cell_type": "code",
      "source": [
        "#14. Create a class Product with attributes name, price, and quantity. Implement a method total_price() that calculates the total price of the product.\n",
        "\n",
        "class Product:\n",
        "    def __init__(self, name, price, quantity):\n",
        "        self.name = name\n",
        "        self.price = price\n",
        "        self.quantity = quantity\n",
        "\n",
        "    def total_price(self):\n",
        "        return self.price * self.quantity\n",
        "\n",
        "# Example Used\n",
        "product = Product(\"Laptop\", 1000, 2)\n",
        "print(f\"Total price for {product.name}: {product.total_price()}\")"
      ],
      "metadata": {
        "id": "CgBWrgcBLB3F"
      },
      "execution_count": null,
      "outputs": []
    },
    {
      "cell_type": "code",
      "source": [
        "#15. Create a class Animal with an abstract method sound(). Create two derived classes Cow and Sheep that implement the sound() method.\n",
        "\n",
        "rom abc import ABC, abstractmethod\n",
        "\n",
        "class Animal(ABC):\n",
        "    @abstractmethod\n",
        "    def sound(self):\n",
        "        pass\n",
        "\n",
        "class Cow(Animal):\n",
        "    def sound(self):\n",
        "        return \"Moo!\"\n",
        "\n",
        "class Sheep(Animal):\n",
        "    def sound(self):\n",
        "        return \"Baa!\"\n",
        "\n",
        "# Example Usage\n",
        "cow = Cow()\n",
        "sheep = Sheep()\n",
        "print(f\"Cow sound: {cow.sound()}\")\n",
        "print(f\"Sheep sound: {sheep.sound()}\")"
      ],
      "metadata": {
        "id": "e5K5C9YKLZL3"
      },
      "execution_count": null,
      "outputs": []
    },
    {
      "cell_type": "code",
      "source": [
        "# 16. Create a class Book with attributes title, author, and year_published. Add a method get_book_info() that returns a formatted string with the book's details.\n",
        "\n",
        "class Book:\n",
        "    def __init__(self, title, author, year_published):\n",
        "        self.title = title\n",
        "        self.author = author\n",
        "        self.year_published = year_published\n",
        "\n",
        "    def get_book_info(self):\n",
        "        return f\"'{self.title}' by {self.author}, published in {self.year_published}\"\n",
        "\n",
        "book = Book(\"1\", \"George Orwell\", 1949)\n",
        "print(book.get_book_info())"
      ],
      "metadata": {
        "id": "dLmHS2zdLlEe"
      },
      "execution_count": null,
      "outputs": []
    },
    {
      "cell_type": "code",
      "source": [
        "#17. Create a class House with attributes address and price. Create a derived class Mansion that adds an attribute number_of_rooms.\n",
        "\n",
        "class House:\n",
        "    def __init__(self, address, price):\n",
        "        self.address = address\n",
        "        self.price = price\n",
        "\n",
        "class Mansion(House):\n",
        "    def __init__(self, address, price, number_of_rooms):\n",
        "        super().__init__(address, price)\n",
        "        self.number_of_rooms = number_of_rooms\n",
        "\n",
        "mansion = Mansion(\"123 Meerut Road\", 50000, 10)\n",
        "print(f\"Mansion at {mansion.address}, priced at {mansion.price}, has {mansion.number_of_rooms} rooms.\")"
      ],
      "metadata": {
        "id": "Nt2cCCHLLzt-"
      },
      "execution_count": null,
      "outputs": []
    },
    {
      "cell_type": "markdown",
      "source": [
        "***Practical Question no 3 and 4 are same (Repetition of one Question is there).***"
      ],
      "metadata": {
        "id": "mtGHxOWc5QxU"
      }
    }
  ]
}